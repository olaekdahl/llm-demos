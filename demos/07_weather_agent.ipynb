{
 "cells": [
  {
   "cell_type": "code",
   "execution_count": null,
   "id": "2694b6a1",
   "metadata": {},
   "outputs": [],
   "source": [
    "%pip install autogen-agentchat autogen-ext[openai] geopy requests python-dotenv -q"
   ]
  },
  {
   "cell_type": "code",
   "execution_count": null,
   "id": "087720e2",
   "metadata": {},
   "outputs": [
    {
     "name": "stdout",
     "output_type": "stream",
     "text": [
      "The forecast for New York City over the next three days is as follows:\n",
      "\n",
      "- **May 23**: High of 27.9°C (82.2°F), low of 27.2°C (81.0°F), with no rain.\n",
      "- **May 24**: High of 27.6°C (81.7°F), low of 27.0°C (80.6°F), with no rain.\n",
      "- **May 25**: High of 27.8°C (82.0°F), low of 27.2°C (81.0°F), with no rain.\n",
      "\n",
      "Fun trivia: New York City is home to the largest subway system in the world, with 472 stations!\n",
      "\n",
      "TERMINATE\n"
     ]
    }
   ],
   "source": [
    "import os, requests\n",
    "from geopy.geocoders import Nominatim\n",
    "from autogen_ext.models.openai import OpenAIChatCompletionClient\n",
    "from autogen_agentchat.agents import AssistantAgent\n",
    "from dotenv import load_dotenv\n",
    "load_dotenv()\n",
    "\n",
    "# ---------- model client ----------\n",
    "client = OpenAIChatCompletionClient(\n",
    "    model=\"gpt-4o-mini\",\n",
    "    api_key=os.getenv(\"OPENAI_API_KEY\")\n",
    ")\n",
    "\n",
    "# ---------- tools ----------\n",
    "geolocator = Nominatim(user_agent=\"forecast_example\")\n",
    "\n",
    "def geocode_tool(place: str) -> dict:\n",
    "    \"\"\"Return {'latitude': float, 'longitude': float, 'address': str} for *place*.\"\"\"\n",
    "    loc = geolocator.geocode(place, exactly_one=True, timeout=10)\n",
    "    if loc is None:\n",
    "        raise ValueError(f\"Could not geocode '{place}'.\")\n",
    "    return {\"latitude\": loc.latitude, \"longitude\": loc.longitude, \"address\": loc.address}\n",
    "\n",
    "def forecast_tool(latitude: float, longitude: float, days: int = 3) -> str:\n",
    "    \"\"\"\n",
    "    Get a weather forecast for a given location.\n",
    "    \n",
    "    :param latitude: Latitude of the location\n",
    "    :param longitude: Longitude of the location\n",
    "    :param days: Number of days to forecast (default: 3)\n",
    "    :return: A plain-text summary of the weather forecast, one line per day.\n",
    "    \"\"\"\n",
    "    url = \"https://api.open-meteo.com/v1/forecast\"\n",
    "    params = dict(\n",
    "        latitude=latitude,\n",
    "        longitude=longitude,\n",
    "        daily=[\"temperature_2m_max\",\"temperature_2m_min\",\"precipitation_sum\"],\n",
    "        timezone=\"auto\",\n",
    "        forecast_days=days,\n",
    "    )\n",
    "    data = requests.get(url, params=params, timeout=10).json()\n",
    "    return \"\\n\".join(\n",
    "        f\"{d}: {hi}°C / {lo}°C, rain {rain} mm\"\n",
    "        for d, hi, lo, rain in zip(\n",
    "            data[\"daily\"][\"time\"],\n",
    "            data[\"daily\"][\"temperature_2m_max\"],\n",
    "            data[\"daily\"][\"temperature_2m_min\"],\n",
    "            data[\"daily\"][\"precipitation_sum\"])\n",
    "    )\n",
    "\n",
    "# ---------- agent ----------\n",
    "system_message = \"\"\"\n",
    "You are a concise and efficient weather assistant.\n",
    "\n",
    "When asked for a forecast:\n",
    "1. Call geocode_tool(place) to get latitude/longitude.\n",
    "2. Call forecast_tool(latitude, longitude, days).\n",
    "3. Write a short, final summary of the forecast.\n",
    "4. Always provide both celsius and fahrenheit temperatures.\n",
    "5. Always include a fun trivia about each location.\n",
    "6. Only reply once, after calling both tools.\n",
    "7. Do not repeat yourself or announce what you're doing.\n",
    "8. End your reply with TERMINATE.\n",
    "\n",
    "Do not ask the user for confirmation. Just follow the steps.\n",
    "Even if the user provides coordinates directly, always confirm them with geocode_tool.\n",
    "\"\"\"\n",
    "\n",
    "agent = AssistantAgent(\n",
    "    name=\"forecaster\",\n",
    "    model_client=client,\n",
    "    tools=[geocode_tool, forecast_tool],\n",
    "    system_message=system_message,\n",
    "    reflect_on_tool_use=True,\n",
    ")\n",
    "\n",
    "# ---------- run in the notebook ----------\n",
    "result = await agent.run(task=\"What's the 5-day forecast for Kyrkhult?\")\n",
    "\n",
    "# What's the 5-day forecast for Irvine?\n",
    "# What the weather like in Sweden?\n",
    "\n",
    "final_msg = result.messages[-1]   # <- finished answer\n",
    "print(final_msg.content)"
   ]
  },
  {
   "cell_type": "code",
   "execution_count": 19,
   "id": "d7c1e756",
   "metadata": {},
   "outputs": [
    {
     "data": {
      "text/plain": [
       "'2025-05-23: 22.0°C / 17.0°C, rain 1.1 mm\\n2025-05-24: 25.3°C / 14.6°C, rain 0.0 mm\\n2025-05-25: 28.9°C / 14.1°C, rain 0.0 mm'"
      ]
     },
     "execution_count": 19,
     "metadata": {},
     "output_type": "execute_result"
    }
   ],
   "source": [
    "forecast_tool(33.6857, 117.8260)"
   ]
  }
 ],
 "metadata": {
  "kernelspec": {
   "display_name": ".venv",
   "language": "python",
   "name": "python3"
  },
  "language_info": {
   "codemirror_mode": {
    "name": "ipython",
    "version": 3
   },
   "file_extension": ".py",
   "mimetype": "text/x-python",
   "name": "python",
   "nbconvert_exporter": "python",
   "pygments_lexer": "ipython3",
   "version": "3.12.7"
  }
 },
 "nbformat": 4,
 "nbformat_minor": 5
}
