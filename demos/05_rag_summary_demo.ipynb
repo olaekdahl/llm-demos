{
 "cells": [
  {
   "cell_type": "markdown",
   "id": "dbd43efd",
   "metadata": {},
   "source": [
    "# RAG Summary Demo\n",
    "\n",
    "This notebook combines concepts from the previous notebooks into a clean, end-to-end RAG workflow.\n",
    "\n",
    "## Pipeline Steps\n",
    "1. Load and chunk a document\n",
    "2. Embed and store in FAISS\n",
    "3. Accept user question\n",
    "4. Retrieve relevant chunks\n",
    "5. Generate answer using OpenAI"
   ]
  },
  {
   "cell_type": "code",
   "execution_count": null,
   "id": "81c33ee1",
   "metadata": {},
   "outputs": [],
   "source": [
    "# Install dependencies\n",
    "%pip install faiss-cpu sentence-transformers openai -q"
   ]
  },
  {
   "cell_type": "code",
   "execution_count": null,
   "id": "cff7df55",
   "metadata": {},
   "outputs": [],
   "source": [
    "from sentence_transformers import SentenceTransformer\n",
    "import faiss\n",
    "import numpy as np\n",
    "import openai\n",
    "import os\n",
    "\n",
    "# Load document\n",
    "text = \"\"\"The Amazon rainforest is the largest tropical rainforest in the world. \n",
    "It plays a critical role in regulating the Earth's climate and is home to a diverse range of species. \n",
    "Deforestation and climate change threaten this vital ecosystem. \n",
    "Efforts to preserve the rainforest include sustainable logging, conservation programs, and international agreements.\"\"\"\n",
    "\n",
    "# Chunk\n",
    "chunks = [s.strip() for s in text.split('.') if len(s) > 20]\n",
    "\n",
    "# Embed\n",
    "model = SentenceTransformer('all-MiniLM-L6-v2')\n",
    "embeddings = model.encode(chunks)\n",
    "\n",
    "# Index\n",
    "index = faiss.IndexFlatL2(embeddings.shape[1])\n",
    "index.add(np.array(embeddings).astype(\"float32\"))"
   ]
  },
  {
   "cell_type": "code",
   "execution_count": null,
   "id": "8dccf68b",
   "metadata": {},
   "outputs": [],
   "source": [
    "# User query\n",
    "query = \"Why is the Amazon rainforest important?\"\n",
    "query_vec = model.encode([query])\n",
    "D, I = index.search(np.array(query_vec).astype(\"float32\"), k=2)\n",
    "\n",
    "retrieved_chunks = [chunks[i] for i in I[0]]\n",
    "print(\"Retrieved Chunks:\")\n",
    "print(\"\\n\".join(retrieved_chunks))"
   ]
  },
  {
   "cell_type": "code",
   "execution_count": null,
   "id": "cfaffefe",
   "metadata": {},
   "outputs": [],
   "source": [
    "# Generate answer using OpenAI\n",
    "openai.api_key = os.getenv(\"OPENAI_API_KEY\")\n",
    "\n",
    "context = \"\\n\".join(retrieved_chunks)\n",
    "prompt = f\"Context:\\n{context}\\n\\nQuestion: {query}\\nAnswer:\"\n",
    "\n",
    "response = openai.Completion.create(\n",
    "    engine=\"text-davinci-003\",\n",
    "    prompt=prompt,\n",
    "    max_tokens=100,\n",
    "    temperature=0.3\n",
    ")\n",
    "\n",
    "print(\"Answer:\", response['choices'][0]['text'].strip())"
   ]
  },
  {
   "cell_type": "markdown",
   "id": "727c2fdc",
   "metadata": {},
   "source": [
    "## Recap\n",
    "- This notebook demonstrates a complete RAG pipeline.\n",
    "- It’s ready for adapting to your own documents and questions."
   ]
  }
 ],
 "metadata": {},
 "nbformat": 4,
 "nbformat_minor": 5
}