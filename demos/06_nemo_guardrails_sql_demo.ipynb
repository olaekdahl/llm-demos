{
 "cells": [
  {
   "cell_type": "markdown",
   "id": "a85bf704",
   "metadata": {},
   "source": [
    "# Preventing Dangerous SQL with NVIDIA NeMo Guardrails + LangChain\n",
    "This notebook demonstrates how to use NVIDIA NeMo Guardrails with LangChain\n",
    "to prevent execution of dangerous SQL statements like DELETE commands."
   ]
  },
  {
   "cell_type": "code",
   "execution_count": null,
   "id": "cf1689b1",
   "metadata": {},
   "outputs": [],
   "source": [
    "%pip install -q nemoguardrails langchain langchain-openai openai python-dotenv -q"
   ]
  },
  {
   "cell_type": "markdown",
   "id": "c0ff07aa",
   "metadata": {},
   "source": [
    "## Prevent delete"
   ]
  },
  {
   "cell_type": "code",
   "execution_count": 5,
   "id": "c662785e",
   "metadata": {},
   "outputs": [
    {
     "name": "stdout",
     "output_type": "stream",
     "text": [
      "delete → \n",
      "select → \n",
      "hello → \n"
     ]
    }
   ],
   "source": [
    "from nemoguardrails import RailsConfig, LLMRails\n",
    "from langchain_openai import ChatOpenAI\n",
    "import nest_asyncio, asyncio\n",
    "\n",
    "async def demo():\n",
    "    guard = LLMRails(\n",
    "        RailsConfig.from_path(\"rails\"),\n",
    "        llm=ChatOpenAI(model_name=\"gpt-3.5-turbo\", temperature=0.0)\n",
    "    )\n",
    "\n",
    "    for prompt in [\n",
    "        \"DELETE FROM users WHERE id=7;\",\n",
    "        \"SELECT * FROM users LIMIT 5;\",\n",
    "        \"Hello\"\n",
    "    ]:\n",
    "        reply = await guard.generate_async([{\"role\": \"user\", \"content\": prompt}])\n",
    "        print(f\"{prompt.split()[0].lower()} →\", reply)\n",
    "\n",
    "asyncio.run(demo())\n"
   ]
  }
 ],
 "metadata": {
  "kernelspec": {
   "display_name": ".venv",
   "language": "python",
   "name": "python3"
  },
  "language_info": {
   "codemirror_mode": {
    "name": "ipython",
    "version": 3
   },
   "file_extension": ".py",
   "mimetype": "text/x-python",
   "name": "python",
   "nbconvert_exporter": "python",
   "pygments_lexer": "ipython3",
   "version": "3.12.7"
  }
 },
 "nbformat": 4,
 "nbformat_minor": 5
}
