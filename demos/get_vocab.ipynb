{
 "cells": [
  {
   "cell_type": "code",
   "execution_count": null,
   "id": "232a5a1e",
   "metadata": {
    "vscode": {
     "languageId": "plaintext"
    }
   },
   "outputs": [],
   "source": [
    "%pip install transformers torch sentence_transformers hf_xet -q"
   ]
  },
  {
   "cell_type": "code",
   "execution_count": null,
   "id": "58568950",
   "metadata": {
    "vscode": {
     "languageId": "plaintext"
    }
   },
   "outputs": [],
   "source": [
    "from transformers import BertTokenizer, BertModel\n",
    "import numpy as np\n",
    "from transformers import pipeline, AutoModelForCausalLM, AutoTokenizer\n",
    "import torch\n",
    "from sentence_transformers import SentenceTransformer"
   ]
  },
  {
   "cell_type": "code",
   "execution_count": null,
   "id": "27b7fbdd",
   "metadata": {
    "vscode": {
     "languageId": "plaintext"
    }
   },
   "outputs": [],
   "source": [
    "tokenizer = BertTokenizer.from_pretrained('bert-base-uncased')\n",
    "\n",
    "# Print vocabulary to file\n",
    "\n",
    "# Get the full vocabulary as a dict: token → ID\n",
    "vocab = tokenizer.get_vocab()\n",
    "\n",
    "with open(\"bert_vocab.txt\", \"w\", encoding=\"utf-8\") as f:\n",
    "    for token, idx in sorted(vocab.items(), key=lambda kv: kv[1]):\n",
    "        f.write(f\"{idx}\\t{token}\\n\")"
   ]
  }
 ],
 "metadata": {
  "language_info": {
   "name": "python"
  }
 },
 "nbformat": 4,
 "nbformat_minor": 5
}
